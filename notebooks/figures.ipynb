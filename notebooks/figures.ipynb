{
 "cells": [
  {
   "cell_type": "code",
   "execution_count": 52,
   "id": "f4a36109-92d0-47e4-adf6-ab75e5e53415",
   "metadata": {},
   "outputs": [
    {
     "name": "stdout",
     "output_type": "stream",
     "text": [
      "['/home-nfs2/local/VANDERBILT/litz/github/MASILab/lobe_seg/notebooks', '/usr/lib/python38.zip', '/usr/lib/python3.8', '/usr/lib/python3.8/lib-dynload', '', '/home-nfs2/local/VANDERBILT/litz/github/MASILab/lobe_seg/env/lib/python3.8/site-packages', '/home/local/VANDERBILT/litz/github/MASILab/thoraxtools/func', '/home/local/VANDERBILT/litz/github/MASILab/lobe_seg', '/home/local/VANDERBILT/litz/github/MASILab/lobe_seg', '/home/local/VANDERBILT/litz/github/MASILab/lobe_seg', '/home/local/VANDERBILT/litz/github/MASILab/lobe_seg', '/home/local/VANDERBILT/litz/github/MASILab/lobe_seg', '/home/local/VANDERBILT/litz/github/MASILab/lobe_seg']\n"
     ]
    }
   ],
   "source": [
    "import os\n",
    "import sys\n",
    "import numpy as np\n",
    "import nibabel as nib\n",
    "from tqdm import tqdm\n",
    "# from nilearn.image import resample_img\n",
    "# Kaiwen's utility functions for plotting in correct orientation\n",
    "func_dir = '/home/local/VANDERBILT/litz/github/MASILab/thoraxtools/func'\n",
    "if func_dir not in sys.path:\n",
    "    sys.path.append(func_dir)\n",
    "print(sys.path)\n",
    "# import plot_clip_combined as plo\n",
    "import vis.paral_clip_overlay_mask as overlay\n",
    "import vis.vis as vis\n",
    "import importlib\n",
    "# importlib.reload(vis.paral_clip_overlay_mask)\n"
   ]
  },
  {
   "cell_type": "code",
   "execution_count": 3,
   "id": "e8f19c83-6abd-415b-9475-bd7bba40c3ab",
   "metadata": {},
   "outputs": [],
   "source": [
    "def save_clip(raw_path, allmask_path, clip_dir, scanid, tag):\n",
    "    overlay.multiple_clip_overlay_with_mask(raw_path, allmask_path, os.path.join(clip_dir, f\"{tag}_{scanid}_axial.png\"), 'axial')\n",
    "    overlay.multiple_clip_overlay_with_mask(raw_path, allmask_path, os.path.join(clip_dir, f\"{tag}_{scanid}_coronal.png\"), 'coronal')\n",
    "    overlay.multiple_clip_overlay_with_mask(raw_path, allmask_path, os.path.join(clip_dir, f\"{tag}_{scanid}_sagittal.png\"), 'sagittal')"
   ]
  },
  {
   "cell_type": "code",
   "execution_count": 26,
   "id": "c60519f6-09c9-491d-bf09-f9c47492b5d0",
   "metadata": {},
   "outputs": [],
   "source": [
    "# LSM figure\n",
    "raw_dir = \"/home/local/VANDERBILT/litz/data/imagevu/nifti/train/\"\n",
    "# raw_dir = \"/nfs/masi/SPORE/nifti/combine/00001003/20180222/\"\n",
    "resizedraw_dir = \"/home/local/VANDERBILT/litz/data/imagevu/lobe/resize_raw\"\n",
    "out_dir = \"/home/local/VANDERBILT/litz/github/MASILab/emphysema/figures/\"\n",
    "mask_dir = \"/home/local/VANDERBILT/litz/data/imagevu/lobe/lvlsetsegCC/\"\n",
    "scanid=\"00001003time20180222\"\n",
    "tag = \"lvlsetseg\""
   ]
  },
  {
   "cell_type": "code",
   "execution_count": 53,
   "id": "21b62372-53e2-499d-a31e-99e5e3c7056c",
   "metadata": {},
   "outputs": [],
   "source": [
    "# johof figure\n",
    "raw_dir = \"/home/local/VANDERBILT/litz/data/imagevu/nifti/train/\"\n",
    "# raw_dir = \"/nfs/masi/SPORE/nifti/combine/00001003/20180222/\"\n",
    "resizedraw_dir = \"/home/local/VANDERBILT/litz/data/imagevu/lobe/resize_raw\"\n",
    "out_dir = \"/home/local/VANDERBILT/litz/github/MASILab/emphysema/figures/\"\n",
    "mask_dir = \"/nfs/masi/SPORE/lobe/JoHof/fusedswap/\"\n",
    "scanid=\"00001003time20180222\"\n",
    "tag=\"lobe\""
   ]
  },
  {
   "cell_type": "code",
   "execution_count": null,
   "id": "aee5ab0a-7da7-47b0-a524-79b01549511f",
   "metadata": {},
   "outputs": [
    {
     "name": "stdout",
     "output_type": "stream",
     "text": [
      "reading /home/local/VANDERBILT/litz/data/imagevu/lobe/resize_raw/resize_00001003time20180222.nii.gz\n",
      "reading /home/local/VANDERBILT/litz/github/MASILab/emphysema/figures/unet_00001003time20180222.nii.gz\n"
     ]
    }
   ],
   "source": [
    "\n",
    "mask_path = os.path.join(mask_dir, f\"{tag}_{scanid}.nii.gz\")\n",
    "raw_path = os.path.join(raw_dir, f\"{scanid}.nii.gz\")\n",
    "# resize raw to mask shape if not already\n",
    "rawpath=\"\"\n",
    "resizedraw_name = f\"resize_{scanid}.nii.gz\"\n",
    "resizeraw_path = os.path.join(resizedraw_dir, resizedraw_name)\n",
    "resizedraws = os.listdir(resizedraw_dir)\n",
    "# if resizedraw_name not in resizedraws:\n",
    "#     rawnii = nib.load(raw_path)\n",
    "#     masknii = nib.load(mask_path)\n",
    "#     resizeraw_nii = resample_img(rawnii, target_affine=masknii.affine, target_shape=masknii.shape)\n",
    "#     nib.save(resizeraw_nii, resizeraw_path)\n",
    "\n",
    "save_clip(resizeraw_path, mask_path, out_dir, scanid, tag)"
   ]
  },
  {
   "cell_type": "code",
   "execution_count": 73,
   "id": "f185b53b-a29e-4c13-ad16-9519287adbfc",
   "metadata": {},
   "outputs": [],
   "source": [
    "# unet figure\n",
    "import sys\n",
    "import os\n",
    "sys.path.append(\"/home/local/VANDERBILT/litz/github/MASILab/lobe_seg\")\n",
    "from dataloader import val_dataloader\n",
    "from models import unet512, unet1024\n",
    "import yaml\n",
    "import torch\n",
    "import nibabel as nib\n",
    "from monai.inferers import sliding_window_inference\n",
    "from monai.handlers.utils import from_engine\n",
    "from monai.utils import set_determinism\n",
    "from monai.transforms import (\n",
    "    EnsureChannelFirstd,\n",
    "    Compose,\n",
    "    CropForegroundd,\n",
    "    LoadImaged,\n",
    "    Orientationd,\n",
    "    RandCropByPosNegLabeld,\n",
    "    ScaleIntensityRanged,\n",
    "    Spacingd,\n",
    "    EnsureTyped,\n",
    "    AsDiscrete,\n",
    "    Invertd,\n",
    "    AsDiscreted\n",
    ")\n",
    "from monai.data import DataLoader, Dataset\n",
    "from monai.data import decollate_batch"
   ]
  },
  {
   "cell_type": "code",
   "execution_count": 78,
   "id": "80cfc047-86e5-41cf-b51d-682f3b7fcb54",
   "metadata": {},
   "outputs": [],
   "source": [
    "CONFIG_DIR = \"/home/local/VANDERBILT/litz/github/MASILab/lobe_seg/configs\"\n",
    "DATA_DIR = \"/home/local/VANDERBILT/litz/data/imagevu/nifti/train_preproc/\"\n",
    "out_dir = \"/home/local/VANDERBILT/litz/github/MASILab/emphysema/figures/\"\n",
    "config_id = \"0322unet512\"\n",
    "scanid=\"00001003time20180222\"\n",
    "tag=\"unet\"\n",
    "\n",
    "def load_config(config_name, config_dir):\n",
    "    with open(os.path.join(config_dir, config_name)) as file:\n",
    "        config = yaml.load(file, Loader=yaml.FullLoader)\n",
    "    return config\n",
    "config = load_config(f\"Config_{config_id}.YAML\", CONFIG_DIR)\n",
    "LABEL_DIR = config[\"label_dir\"]\n",
    "val_images = [os.path.join(DATA_DIR, f\"{scanid}.nii.gz\")]\n",
    "val_file_names = [f\"lvlsetseg_{os.path.basename(name)}\" for name in val_images]\n",
    "val_labels = [os.path.join(LABEL_DIR, name) for name in val_file_names]\n",
    "val_files = [\n",
    "        {\"image\": image_name, \"label\": label_name}\n",
    "        for image_name, label_name in zip(val_images, val_labels)\n",
    "    ]\n",
    "# val_loader = val_dataloader(config, images)\n",
    "\n",
    "hu_window = config[\"window\"] \n",
    "val_transforms = Compose([\n",
    "        LoadImaged(keys=[\"image\", \"label\"]),\n",
    "        EnsureChannelFirstd(keys=[\"image\", \"label\"]),\n",
    "        Orientationd(keys=[\"image\"], axcodes=\"RAS\"),\n",
    "        Spacingd(keys=[\"image\"], pixdim=(1.0,1.0,1.0), mode=(\"bilinear\")),\n",
    "        ScaleIntensityRanged(keys=[\"image\"], a_min=hu_window[0], a_max=hu_window[1], b_min=0.0, b_max=1.0,\n",
    "                                 clip=True),\n",
    "        CropForegroundd(keys=[\"image\"], source_key=\"image\"),\n",
    "        EnsureTyped(keys=[\"image\", \"label\"]),\n",
    "    ])\n",
    "val_ds = Dataset(data=val_files, transform=val_transforms)\n",
    "val_loader = DataLoader(val_ds, batch_size=1, num_workers=4)\n",
    "post_transforms = Compose([\n",
    "    EnsureTyped(keys=[\"pred\"]),\n",
    "    Invertd(\n",
    "        keys=[\"pred\"],\n",
    "        transform=val_transforms,\n",
    "        orig_keys=\"image\",\n",
    "        meta_keys=\"pred_meta_dict\",\n",
    "        orig_meta_keys=\"image_meta_dict\",\n",
    "        meta_key_postfix=\"meta_dict\",\n",
    "        nearest_interp=False,\n",
    "        to_tensor=True,\n",
    "    ),\n",
    "    AsDiscreted(keys=\"pred\", argmax=True),\n",
    "])\n"
   ]
  },
  {
   "cell_type": "code",
   "execution_count": 79,
   "id": "60ac65a3-1c5c-4c6b-9a1c-3777e7b9863b",
   "metadata": {
    "tags": []
   },
   "outputs": [],
   "source": [
    "\n",
    "\n",
    "os.environ[\"CUDA_DEVICE_ORDER\"]=\"PCI_BUS_ID\"   # see issue #152\n",
    "os.environ[\"CUDA_VISIBLE_DEVICES\"]=\"0\"\n",
    "device = torch.device(\"cuda:0\")\n",
    "model = unet512(6).to(device)\n",
    "best_model_path = os.path.join(config[\"model_dir\"], config_id, f\"{config_id}_best_model.pth\")\n",
    "model.load_state_dict(torch.load(best_model_path))\n",
    "model.eval()\n",
    "with torch.no_grad():\n",
    "    val_data = next(iter(val_loader))\n",
    "    roi_size = (160, 160, 160)\n",
    "    sw_batch_size = 4\n",
    "    val_data[\"pred\"] = sliding_window_inference(val_data[\"image\"].to(device), roi_size, sw_batch_size, model)\n",
    "    \n",
    "    \n",
    "#     output_nii = nib.Nifti1Image(output, header=nii.header, affine=nii.affine)\n",
    "#     nib.save(output_nii, os.path.join(out_dir, f\"{tag}_{scanid}.nii.gz\"))\n"
   ]
  },
  {
   "cell_type": "code",
   "execution_count": 80,
   "id": "3195be9d-af7d-4662-bc45-b8ee8fb88125",
   "metadata": {
    "tags": []
   },
   "outputs": [
    {
     "name": "stdout",
     "output_type": "stream",
     "text": [
      "torch.Size([1, 6, 360, 276, 321])\n"
     ]
    }
   ],
   "source": [
    "print(val_data[\"pred\"].shape)\n",
    "val_data = [post_transforms(i) for i in decollate_batch(val_data)]\n",
    "\n"
   ]
  },
  {
   "cell_type": "code",
   "execution_count": 81,
   "id": "3b73a18a-d898-4652-9bbb-73395352fa70",
   "metadata": {},
   "outputs": [
    {
     "name": "stdout",
     "output_type": "stream",
     "text": [
      "torch.Size([1, 512, 512, 401])\n",
      "torch.Size([1, 360, 276, 321])\n",
      "Save to /home/local/VANDERBILT/litz/github/MASILab/emphysema/figures/unet_00001003time20180222_coronal.png\n",
      "Save to /home/local/VANDERBILT/litz/github/MASILab/emphysema/figures/unet_00001003time20180222_sagittal.png\n",
      "Save to /home/local/VANDERBILT/litz/github/MASILab/emphysema/figures/unet_00001003time20180222_axial.png\n"
     ]
    }
   ],
   "source": [
    "# unet figure\n",
    "raw_dir = \"/home/local/VANDERBILT/litz/data/imagevu/nifti/train/\"\n",
    "# raw_dir = \"/nfs/masi/SPORE/nifti/combine/00001003/20180222/\"\n",
    "resizedraw_dir = \"/home/local/VANDERBILT/litz/data/imagevu/lobe/resize_raw\"\n",
    "out_dir = \"/home/local/VANDERBILT/litz/github/MASILab/emphysema/figures/\"\n",
    "mask_dir = \"/home/local/VANDERBILT/litz/github/MASILab/emphysema/figures/\"\n",
    "scanid=\"00001003time20180222\"\n",
    "tag=\"unet\"\n",
    "print(val_data[0][\"pred\"].shape)\n",
    "print(val_data[0][\"image\"].shape)\n",
    "val_output, val_image = val_data[0][\"pred\"], val_data[0][\"image\"]\n",
    "# np_img = val_image[0, :,:,:].detach().cpu().numpy()\n",
    "np_img = nib.load(os.path.join(raw_dir, f\"{scanid}.nii.gz\")).get_fdata()\n",
    "output = val_output[0,:,:,:].detach().cpu().numpy()\n",
    "overlay.multiple_clip_overlay_with_mask_from_npy(np_img, output, os.path.join(out_dir, f\"{tag}_{scanid}_coronal.png\"), clip_plane='coronal')\n",
    "overlay.multiple_clip_overlay_with_mask_from_npy(np_img, output, os.path.join(out_dir, f\"{tag}_{scanid}_sagittal.png\"), clip_plane='sagittal')\n",
    "overlay.multiple_clip_overlay_with_mask_from_npy(np_img, output, os.path.join(out_dir, f\"{tag}_{scanid}_axial.png\"), clip_plane='axial')\n",
    "# nii = nib.load(os.path.join(DATA_DIR, f\"{scanid}.nii.gz\"))\n",
    "# output_nii = nib.Nifti1Image(output, header=nii.header, affine=nii.affine)\n",
    "\n",
    "# nib.save(output_nii, os.path.join(out_dir, f\"{tag}_{scanid}.nii.gz\"))"
   ]
  },
  {
   "cell_type": "code",
   "execution_count": 83,
   "id": "596fcaa3-fe90-474d-a1fa-10914ff9bd6b",
   "metadata": {},
   "outputs": [],
   "source": [
    "# emphysema mask\n",
    "nii = nib.load(os.path.join(raw_dir, f\"{scanid}.nii.gz\"))\n",
    "output_nii = nib.Nifti1Image(output, header=nii.header, affine=nii.affine)\n",
    "nib.save(output_nii, os.path.join(out_dir, f\"{tag}_{scanid}.nii.gz\"))\n"
   ]
  },
  {
   "cell_type": "code",
   "execution_count": 84,
   "id": "1267bc0f-6fc4-4088-aef2-b2132a722966",
   "metadata": {
    "tags": []
   },
   "outputs": [],
   "source": [
    "emp_path = \"/nfs/masi/SPORE/lobe/empmasks\"\n",
    "emp_nii =nib.load(os.path.join(emp_path, f\"emp_{scanid}.nii.gz\"))\n",
    "emp_img = emp_nii.get_fdata()\n",
    "output_x_emp = np.multiply(output, emp_img)\n",
    "noemp = output - output_x_emp\n",
    "emp_scaled = np.multiply(emp_img, 6)\n",
    "all_masks = noemp + emp_scaled\n",
    "all_masks_nii = nib.Nifti1Image(all_masks, header=emp_nii.header, affine=emp_nii.affine)\n",
    "nib.save(all_masks_nii, os.path.join(out_dir, f\"emp_merged_{scanid}.nii.gz\"))"
   ]
  },
  {
   "cell_type": "code",
   "execution_count": 87,
   "id": "bafc4d62-ee1d-4d50-9696-8787f9870c19",
   "metadata": {},
   "outputs": [
    {
     "name": "stdout",
     "output_type": "stream",
     "text": [
      "reading /home/local/VANDERBILT/litz/data/imagevu/lobe/resize_raw/resize_00001003time20180222.nii.gz\n",
      "reading /home/local/VANDERBILT/litz/github/MASILab/emphysema/figures/emp_merged_00001003time20180222.nii.gz\n",
      "Save to /home/local/VANDERBILT/litz/github/MASILab/emphysema/figures/emp_merged_00001003time20180222_fused_axial.png\n",
      "reading /home/local/VANDERBILT/litz/data/imagevu/lobe/resize_raw/resize_00001003time20180222.nii.gz\n",
      "reading /home/local/VANDERBILT/litz/github/MASILab/emphysema/figures/emp_merged_00001003time20180222.nii.gz\n",
      "Save to /home/local/VANDERBILT/litz/github/MASILab/emphysema/figures/emp_merged_00001003time20180222_coronal.png\n",
      "reading /home/local/VANDERBILT/litz/data/imagevu/lobe/resize_raw/resize_00001003time20180222.nii.gz\n",
      "reading /home/local/VANDERBILT/litz/github/MASILab/emphysema/figures/emp_merged_00001003time20180222.nii.gz\n",
      "Save to /home/local/VANDERBILT/litz/github/MASILab/emphysema/figures/emp_merged_00001003time20180222_sagittal.png\n"
     ]
    }
   ],
   "source": [
    "# merged figure\n",
    "raw_dir = \"/home/local/VANDERBILT/litz/data/imagevu/nifti/train/\"\n",
    "# raw_dir = \"/nfs/masi/SPORE/nifti/combine/00001003/20180222/\"\n",
    "resizedraw_dir = \"/home/local/VANDERBILT/litz/data/imagevu/lobe/resize_raw\"\n",
    "out_dir = \"/home/local/VANDERBILT/litz/github/MASILab/emphysema/figures/\"\n",
    "mask_dir = \"/home/local/VANDERBILT/litz/github/MASILab/emphysema/figures/\"\n",
    "scanid=\"00001003time20180222\"\n",
    "tag=\"emp_merged\"\n",
    "mask_path = os.path.join(out_dir, f\"emp_merged_{scanid}.nii.gz\")\n",
    "raw_path = os.path.join(raw_dir, f\"{scanid}.nii.gz\")\n",
    "# resize raw to mask shape if not already\n",
    "resizedraw_name = f\"resize_{scanid}.nii.gz\"\n",
    "resizeraw_path = os.path.join(resizedraw_dir, resizedraw_name)\n",
    "resizedraws = os.listdir(resizedraw_dir)\n",
    "# if resizedraw_name not in resizedraws:\n",
    "#     rawnii = nib.load(raw_path)\n",
    "#     masknii = nib.load(mask_path)\n",
    "#     resizeraw_nii = resample_img(rawnii, target_affine=masknii.affine, target_shape=masknii.shape)\n",
    "#     nib.save(resizeraw_nii, resizeraw_path)\n",
    "\n",
    "save_clip(resizeraw_path, mask_path, out_dir, scanid, tag)"
   ]
  },
  {
   "cell_type": "code",
   "execution_count": null,
   "id": "a3f149d1-83d9-4c4a-bb65-2f338881becd",
   "metadata": {},
   "outputs": [],
   "source": []
  }
 ],
 "metadata": {
  "kernelspec": {
   "display_name": "lobe_seg",
   "language": "python",
   "name": "env"
  },
  "language_info": {
   "codemirror_mode": {
    "name": "ipython",
    "version": 3
   },
   "file_extension": ".py",
   "mimetype": "text/x-python",
   "name": "python",
   "nbconvert_exporter": "python",
   "pygments_lexer": "ipython3",
   "version": "3.8.10"
  }
 },
 "nbformat": 4,
 "nbformat_minor": 5
}
