{
 "cells": [
  {
   "cell_type": "code",
   "execution_count": 1,
   "id": "f5044fa2-d1e3-47a1-857b-e0d09355c9b0",
   "metadata": {},
   "outputs": [],
   "source": [
    "import pandas as pd"
   ]
  },
  {
   "cell_type": "code",
   "execution_count": 2,
   "id": "f4655c6e-28be-41c2-a8d8-c68c02f67246",
   "metadata": {},
   "outputs": [],
   "source": [
    "metrics_path = \"/home/local/VANDERBILT/litz/github/MASILab/lobe_seg/models/0327unet512/qa_vlsp_dice.csv\""
   ]
  },
  {
   "cell_type": "code",
   "execution_count": 14,
   "id": "ceea4f77-d283-432f-b9f7-38ad4dc457aa",
   "metadata": {},
   "outputs": [
    {
     "name": "stdout",
     "output_type": "stream",
     "text": [
      "0    0.971272\n",
      "1    0.974861\n",
      "2    0.958679\n",
      "3    0.935657\n",
      "4    0.975020\n",
      "dtype: float64\n",
      "0.9630977770285714\n"
     ]
    }
   ],
   "source": [
    "metrics_df = pd.read_csv(metrics_path)\n",
    "metrics_df = metrics_df.iloc[:, 1:]\n",
    "a = metrics_df.mean(axis=0)\n",
    "print(a)\n",
    "print(a.mean())"
   ]
  },
  {
   "cell_type": "code",
   "execution_count": null,
   "id": "677935a9-1d26-4773-bfd8-a5f4f62c6b29",
   "metadata": {},
   "outputs": [],
   "source": [
    "emp_path = \"\"\n",
    "emp_df = pd.read_csv(emp_path)"
   ]
  }
 ],
 "metadata": {
  "kernelspec": {
   "display_name": "lobe_seg",
   "language": "python",
   "name": "env"
  },
  "language_info": {
   "codemirror_mode": {
    "name": "ipython",
    "version": 3
   },
   "file_extension": ".py",
   "mimetype": "text/x-python",
   "name": "python",
   "nbconvert_exporter": "python",
   "pygments_lexer": "ipython3",
   "version": "3.8.10"
  }
 },
 "nbformat": 4,
 "nbformat_minor": 5
}
