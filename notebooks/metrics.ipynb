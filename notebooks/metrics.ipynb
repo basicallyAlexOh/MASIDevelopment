{
 "cells": [
  {
   "cell_type": "code",
   "execution_count": 105,
   "id": "f5044fa2-d1e3-47a1-857b-e0d09355c9b0",
   "metadata": {},
   "outputs": [],
   "source": [
    "import os\n",
    "import glob\n",
    "import pandas as pd\n",
    "import matplotlib.pyplot as plt\n",
    "import seaborn as sns"
   ]
  },
  {
   "cell_type": "code",
   "execution_count": 106,
   "id": "f4655c6e-28be-41c2-a8d8-c68c02f67246",
   "metadata": {},
   "outputs": [],
   "source": [
    "metric_dir = \"/home/local/VANDERBILT/litz/data/luna16/metrics\"\n",
    "johof_folds = glob.glob(os.path.join(metric_dir, \"johof_norm*\"))\n",
    "lsm_folds = glob.glob(os.path.join(metric_dir, \"lsm_*\"))"
   ]
  },
  {
   "cell_type": "code",
   "execution_count": 113,
   "id": "04e44647-7694-4162-9c58-3f179de0040b",
   "metadata": {},
   "outputs": [
    {
     "name": "stdout",
     "output_type": "stream",
     "text": [
      "47\n",
      "47\n"
     ]
    }
   ],
   "source": [
    "johof_df = pd.read_csv(johof_folds[0])\n",
    "for i, johof_fold in enumerate(johof_folds):\n",
    "    if i > 0:\n",
    "        johof_fold_df = pd.read_csv(johof_fold)\n",
    "        johof_df = pd.concat([johof_df, johof_fold_df], ignore_index=True)\n",
    "johof_df.drop(columns=['Unnamed: 0'], inplace=True)\n",
    "\n",
    "lsm_df = pd.read_csv(lsm_folds[0])\n",
    "for i, lsm_fold in enumerate(lsm_folds):\n",
    "    if i > 0:\n",
    "        lsm_fold_df = pd.read_csv(lsm_fold)\n",
    "        lsm_df = pd.concat([lsm_df, lsm_fold_df], ignore_index=True)\n",
    "lsm_df.drop(columns=['Unnamed: 0'], inplace=True)\n",
    "print(len(johof_df))\n",
    "print(len(lsm_df))"
   ]
  },
  {
   "cell_type": "code",
   "execution_count": 134,
   "id": "b02960b1-7b05-4eef-9f6f-4663f56c8402",
   "metadata": {},
   "outputs": [],
   "source": [
    "# function that maps an input int (as str type) to name of lobe\n",
    "def lobe_map(x):\n",
    "    if x=='0': return 'LUL'\n",
    "    if x=='1': return 'LLL'\n",
    "    if x=='2': return 'RUL'\n",
    "    if x=='3': return 'RML'\n",
    "    if x=='4': return 'RLL'"
   ]
  },
  {
   "cell_type": "code",
   "execution_count": 135,
   "id": "3490662c-5be6-4f85-afcf-78a6a9495120",
   "metadata": {},
   "outputs": [],
   "source": [
    "johof_df['id'] = pd.Series(range(0, len(johof_df)))\n",
    "lsm_df['id'] = pd.Series(range(0, len(lsm_df)))\n",
    "# convert wide to long form\n",
    "johof_long = pd.melt(johof_df, id_vars=['id'], value_vars=['0', '1', '2', '3', '4'])\n",
    "johof_long['model'] = 'Hofmanninger (2D Unet)'\n",
    "lsm_long = pd.melt(lsm_df, id_vars=['id'], value_vars=['0', '1', '2', '3', '4'])\n",
    "lsm_long['model'] = 'LSM'\n",
    "all_df = pd.concat([johof_long, lsm_long], ignore_index=True)\n",
    "# convert lobe numbers to names\n",
    "all_df = all_df.rename(columns={'variable':'Lobe', 'value': 'Dice score'})\n",
    "all_df['Lobe'] = all_df['Lobe'].apply(lobe_map)"
   ]
  },
  {
   "cell_type": "code",
   "execution_count": 136,
   "id": "0f561b7a-a9ee-4f8b-a0e6-194dcaf9297b",
   "metadata": {},
   "outputs": [
    {
     "data": {
      "text/html": [
       "<div>\n",
       "<style scoped>\n",
       "    .dataframe tbody tr th:only-of-type {\n",
       "        vertical-align: middle;\n",
       "    }\n",
       "\n",
       "    .dataframe tbody tr th {\n",
       "        vertical-align: top;\n",
       "    }\n",
       "\n",
       "    .dataframe thead th {\n",
       "        text-align: right;\n",
       "    }\n",
       "</style>\n",
       "<table border=\"1\" class=\"dataframe\">\n",
       "  <thead>\n",
       "    <tr style=\"text-align: right;\">\n",
       "      <th></th>\n",
       "      <th>id</th>\n",
       "      <th>Lobe</th>\n",
       "      <th>Dice score</th>\n",
       "      <th>model</th>\n",
       "    </tr>\n",
       "  </thead>\n",
       "  <tbody>\n",
       "    <tr>\n",
       "      <th>0</th>\n",
       "      <td>0</td>\n",
       "      <td>LUL</td>\n",
       "      <td>0.903191</td>\n",
       "      <td>Hofmanninger (2D Unet)</td>\n",
       "    </tr>\n",
       "    <tr>\n",
       "      <th>1</th>\n",
       "      <td>1</td>\n",
       "      <td>LUL</td>\n",
       "      <td>0.918089</td>\n",
       "      <td>Hofmanninger (2D Unet)</td>\n",
       "    </tr>\n",
       "    <tr>\n",
       "      <th>2</th>\n",
       "      <td>2</td>\n",
       "      <td>LUL</td>\n",
       "      <td>0.917408</td>\n",
       "      <td>Hofmanninger (2D Unet)</td>\n",
       "    </tr>\n",
       "    <tr>\n",
       "      <th>3</th>\n",
       "      <td>3</td>\n",
       "      <td>LUL</td>\n",
       "      <td>0.923730</td>\n",
       "      <td>Hofmanninger (2D Unet)</td>\n",
       "    </tr>\n",
       "    <tr>\n",
       "      <th>4</th>\n",
       "      <td>4</td>\n",
       "      <td>LUL</td>\n",
       "      <td>0.959741</td>\n",
       "      <td>Hofmanninger (2D Unet)</td>\n",
       "    </tr>\n",
       "    <tr>\n",
       "      <th>...</th>\n",
       "      <td>...</td>\n",
       "      <td>...</td>\n",
       "      <td>...</td>\n",
       "      <td>...</td>\n",
       "    </tr>\n",
       "    <tr>\n",
       "      <th>465</th>\n",
       "      <td>42</td>\n",
       "      <td>RLL</td>\n",
       "      <td>0.939751</td>\n",
       "      <td>LSM</td>\n",
       "    </tr>\n",
       "    <tr>\n",
       "      <th>466</th>\n",
       "      <td>43</td>\n",
       "      <td>RLL</td>\n",
       "      <td>0.951192</td>\n",
       "      <td>LSM</td>\n",
       "    </tr>\n",
       "    <tr>\n",
       "      <th>467</th>\n",
       "      <td>44</td>\n",
       "      <td>RLL</td>\n",
       "      <td>0.950739</td>\n",
       "      <td>LSM</td>\n",
       "    </tr>\n",
       "    <tr>\n",
       "      <th>468</th>\n",
       "      <td>45</td>\n",
       "      <td>RLL</td>\n",
       "      <td>0.968078</td>\n",
       "      <td>LSM</td>\n",
       "    </tr>\n",
       "    <tr>\n",
       "      <th>469</th>\n",
       "      <td>46</td>\n",
       "      <td>RLL</td>\n",
       "      <td>0.955067</td>\n",
       "      <td>LSM</td>\n",
       "    </tr>\n",
       "  </tbody>\n",
       "</table>\n",
       "<p>470 rows × 4 columns</p>\n",
       "</div>"
      ],
      "text/plain": [
       "     id Lobe  Dice score                   model\n",
       "0     0  LUL    0.903191  Hofmanninger (2D Unet)\n",
       "1     1  LUL    0.918089  Hofmanninger (2D Unet)\n",
       "2     2  LUL    0.917408  Hofmanninger (2D Unet)\n",
       "3     3  LUL    0.923730  Hofmanninger (2D Unet)\n",
       "4     4  LUL    0.959741  Hofmanninger (2D Unet)\n",
       "..   ..  ...         ...                     ...\n",
       "465  42  RLL    0.939751                     LSM\n",
       "466  43  RLL    0.951192                     LSM\n",
       "467  44  RLL    0.950739                     LSM\n",
       "468  45  RLL    0.968078                     LSM\n",
       "469  46  RLL    0.955067                     LSM\n",
       "\n",
       "[470 rows x 4 columns]"
      ]
     },
     "execution_count": 136,
     "metadata": {},
     "output_type": "execute_result"
    }
   ],
   "source": [
    "all_df\n"
   ]
  },
  {
   "cell_type": "code",
   "execution_count": 137,
   "id": "65e90fa9-55c9-43c1-b67a-90c22cf45f99",
   "metadata": {},
   "outputs": [
    {
     "data": {
      "image/png": "[encoded data removed]",
      "text/plain": [
       "<Figure size 504x864 with 1 Axes>"
      ]
     },
     "metadata": {
      "needs_background": "light"
     },
     "output_type": "display_data"
    }
   ],
   "source": [
    "sns.set_context(context=\"talk\")\n",
    "f, ax = plt.subplots(figsize=(7,12))\n",
    "sns.boxplot(x=\"Lobe\", y=\"Dice score\", hue=\"model\", data=all_df)\n",
    "ax.yaxis.grid(True)"
   ]
  },
  {
   "cell_type": "code",
   "execution_count": 140,
   "id": "0e231da4-e6f9-4af7-ba08-ed826f7722c5",
   "metadata": {},
   "outputs": [
    {
     "data": {
      "image/png": "[encoded data removed]",
      "text/plain": [
       "<Figure size 216x504 with 1 Axes>"
      ]
     },
     "metadata": {
      "needs_background": "light"
     },
     "output_type": "display_data"
    }
   ],
   "source": [
    "f, ax = plt.subplots(figsize=(3,7))\n",
    "b = sns.boxplot(x=\"Lobe\", y=\"Dice score\", data=all_df[all_df[\"Lobe\"]=='RML'], hue=\"model\", orient=\"v\")\n",
    "ax.get_legend().remove()"
   ]
  },
  {
   "cell_type": "markdown",
   "id": "693ac28c-4192-4bda-845a-7632bf6b248d",
   "metadata": {},
   "source": [
    "### Analysis\n",
    "On average, the RML is segmented worse with Johof and LSM. There are 6 cases where the RML segmentation score falls well below the 1st quartile of 0.78 dice score."
   ]
  },
  {
   "cell_type": "code",
   "execution_count": 14,
   "id": "ceea4f77-d283-432f-b9f7-38ad4dc457aa",
   "metadata": {},
   "outputs": [
    {
     "name": "stdout",
     "output_type": "stream",
     "text": [
      "0    0.971272\n",
      "1    0.974861\n",
      "2    0.958679\n",
      "3    0.935657\n",
      "4    0.975020\n",
      "dtype: float64\n",
      "0.9630977770285714\n"
     ]
    }
   ],
   "source": [
    "metrics_df = pd.read_csv(metrics_path)\n",
    "metrics_df = metrics_df.iloc[:, 1:]\n",
    "a = metrics_df.mean(axis=0)\n",
    "print(a)\n",
    "print(a.mean())"
   ]
  },
  {
   "cell_type": "code",
   "execution_count": null,
   "id": "677935a9-1d26-4773-bfd8-a5f4f62c6b29",
   "metadata": {},
   "outputs": [],
   "source": [
    "emp_path = \"\"\n",
    "emp_df = pd.read_csv(emp_path)"
   ]
  }
 ],
 "metadata": {
  "kernelspec": {
   "display_name": "lobe_seg",
   "language": "python",
   "name": "env"
  },
  "language_info": {
   "codemirror_mode": {
    "name": "ipython",
    "version": 3
   },
   "file_extension": ".py",
   "mimetype": "text/x-python",
   "name": "python",
   "nbconvert_exporter": "python",
   "pygments_lexer": "ipython3",
   "version": "3.8.10"
  }
 },
 "nbformat": 4,
 "nbformat_minor": 5
}
