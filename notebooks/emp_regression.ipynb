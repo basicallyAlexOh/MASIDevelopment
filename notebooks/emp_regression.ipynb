{
 "cells": [
  {
   "cell_type": "markdown",
   "metadata": {},
   "source": [
    "# Correlate emphysema with lung cancer\n",
    "emphysema features: LAV % for each lobe, total lung volume\n",
    "non-emphysema features: PLCOm2014 parameters: age, "
   ]
  },
  {
   "cell_type": "code",
   "execution_count": 1,
   "metadata": {},
   "outputs": [],
   "source": [
    "import pandas as pd\n",
    "import numpy as np"
   ]
  },
  {
   "cell_type": "markdown",
   "metadata": {},
   "source": [
    "### VLSP"
   ]
  },
  {
   "cell_type": "code",
   "execution_count": 4,
   "metadata": {},
   "outputs": [
    {
     "data": {
      "text/html": [
       "<div>\n",
       "<style scoped>\n",
       "    .dataframe tbody tr th:only-of-type {\n",
       "        vertical-align: middle;\n",
       "    }\n",
       "\n",
       "    .dataframe tbody tr th {\n",
       "        vertical-align: top;\n",
       "    }\n",
       "\n",
       "    .dataframe thead th {\n",
       "        text-align: right;\n",
       "    }\n",
       "</style>\n",
       "<table border=\"1\" class=\"dataframe\">\n",
       "  <thead>\n",
       "    <tr style=\"text-align: right;\">\n",
       "      <th></th>\n",
       "      <th>pid</th>\n",
       "      <th>session</th>\n",
       "      <th>Section</th>\n",
       "      <th>Lobe Volume</th>\n",
       "      <th>LAV</th>\n",
       "      <th>LAV %</th>\n",
       "      <th>Residual Volume</th>\n",
       "      <th>Residual %</th>\n",
       "    </tr>\n",
       "  </thead>\n",
       "  <tbody>\n",
       "    <tr>\n",
       "      <th>0</th>\n",
       "      <td>00000251</td>\n",
       "      <td>20180711</td>\n",
       "      <td>Left upper</td>\n",
       "      <td>1051.753392</td>\n",
       "      <td>174.987312</td>\n",
       "      <td>0.166377</td>\n",
       "      <td>876.766079</td>\n",
       "      <td>0.833623</td>\n",
       "    </tr>\n",
       "    <tr>\n",
       "      <th>1</th>\n",
       "      <td>00000251</td>\n",
       "      <td>20180711</td>\n",
       "      <td>Left lower</td>\n",
       "      <td>1274.740896</td>\n",
       "      <td>149.558682</td>\n",
       "      <td>0.117325</td>\n",
       "      <td>1125.182214</td>\n",
       "      <td>0.882675</td>\n",
       "    </tr>\n",
       "    <tr>\n",
       "      <th>2</th>\n",
       "      <td>00000251</td>\n",
       "      <td>20180711</td>\n",
       "      <td>Right upper</td>\n",
       "      <td>891.853766</td>\n",
       "      <td>123.440129</td>\n",
       "      <td>0.138408</td>\n",
       "      <td>768.413637</td>\n",
       "      <td>0.861592</td>\n",
       "    </tr>\n",
       "    <tr>\n",
       "      <th>3</th>\n",
       "      <td>00000251</td>\n",
       "      <td>20180711</td>\n",
       "      <td>Right middle</td>\n",
       "      <td>446.401369</td>\n",
       "      <td>66.018264</td>\n",
       "      <td>0.147890</td>\n",
       "      <td>380.383106</td>\n",
       "      <td>0.852110</td>\n",
       "    </tr>\n",
       "    <tr>\n",
       "      <th>4</th>\n",
       "      <td>00000251</td>\n",
       "      <td>20180711</td>\n",
       "      <td>Right lower</td>\n",
       "      <td>1226.648213</td>\n",
       "      <td>167.282738</td>\n",
       "      <td>0.136374</td>\n",
       "      <td>1059.365475</td>\n",
       "      <td>0.863626</td>\n",
       "    </tr>\n",
       "    <tr>\n",
       "      <th>...</th>\n",
       "      <td>...</td>\n",
       "      <td>...</td>\n",
       "      <td>...</td>\n",
       "      <td>...</td>\n",
       "      <td>...</td>\n",
       "      <td>...</td>\n",
       "      <td>...</td>\n",
       "      <td>...</td>\n",
       "    </tr>\n",
       "    <tr>\n",
       "      <th>11915</th>\n",
       "      <td>00000721</td>\n",
       "      <td>20170710</td>\n",
       "      <td>Right middle</td>\n",
       "      <td>297.628939</td>\n",
       "      <td>0.696839</td>\n",
       "      <td>0.002341</td>\n",
       "      <td>296.932101</td>\n",
       "      <td>0.997659</td>\n",
       "    </tr>\n",
       "    <tr>\n",
       "      <th>11916</th>\n",
       "      <td>00000721</td>\n",
       "      <td>20170710</td>\n",
       "      <td>Right lower</td>\n",
       "      <td>1034.989917</td>\n",
       "      <td>2.778382</td>\n",
       "      <td>0.002684</td>\n",
       "      <td>1032.211535</td>\n",
       "      <td>0.997316</td>\n",
       "    </tr>\n",
       "    <tr>\n",
       "      <th>11917</th>\n",
       "      <td>00000721</td>\n",
       "      <td>20170710</td>\n",
       "      <td>Left</td>\n",
       "      <td>1948.643944</td>\n",
       "      <td>5.863313</td>\n",
       "      <td>0.003009</td>\n",
       "      <td>1942.780631</td>\n",
       "      <td>0.996991</td>\n",
       "    </tr>\n",
       "    <tr>\n",
       "      <th>11918</th>\n",
       "      <td>00000721</td>\n",
       "      <td>20170710</td>\n",
       "      <td>Right</td>\n",
       "      <td>2213.967464</td>\n",
       "      <td>5.397508</td>\n",
       "      <td>0.002438</td>\n",
       "      <td>2208.569956</td>\n",
       "      <td>0.997562</td>\n",
       "    </tr>\n",
       "    <tr>\n",
       "      <th>11919</th>\n",
       "      <td>00000721</td>\n",
       "      <td>20170710</td>\n",
       "      <td>All</td>\n",
       "      <td>4162.611408</td>\n",
       "      <td>11.260821</td>\n",
       "      <td>0.002705</td>\n",
       "      <td>4151.350587</td>\n",
       "      <td>0.997295</td>\n",
       "    </tr>\n",
       "  </tbody>\n",
       "</table>\n",
       "<p>11920 rows × 8 columns</p>\n",
       "</div>"
      ],
      "text/plain": [
       "            pid   session       Section  Lobe Volume         LAV     LAV %  \\\n",
       "0      00000251  20180711    Left upper  1051.753392  174.987312  0.166377   \n",
       "1      00000251  20180711    Left lower  1274.740896  149.558682  0.117325   \n",
       "2      00000251  20180711   Right upper   891.853766  123.440129  0.138408   \n",
       "3      00000251  20180711  Right middle   446.401369   66.018264  0.147890   \n",
       "4      00000251  20180711   Right lower  1226.648213  167.282738  0.136374   \n",
       "...         ...       ...           ...          ...         ...       ...   \n",
       "11915  00000721  20170710  Right middle   297.628939    0.696839  0.002341   \n",
       "11916  00000721  20170710   Right lower  1034.989917    2.778382  0.002684   \n",
       "11917  00000721  20170710          Left  1948.643944    5.863313  0.003009   \n",
       "11918  00000721  20170710         Right  2213.967464    5.397508  0.002438   \n",
       "11919  00000721  20170710           All  4162.611408   11.260821  0.002705   \n",
       "\n",
       "       Residual Volume  Residual %  \n",
       "0           876.766079    0.833623  \n",
       "1          1125.182214    0.882675  \n",
       "2           768.413637    0.861592  \n",
       "3           380.383106    0.852110  \n",
       "4          1059.365475    0.863626  \n",
       "...                ...         ...  \n",
       "11915       296.932101    0.997659  \n",
       "11916      1032.211535    0.997316  \n",
       "11917      1942.780631    0.996991  \n",
       "11918      2208.569956    0.997562  \n",
       "11919      4151.350587    0.997295  \n",
       "\n",
       "[11920 rows x 8 columns]"
      ]
     },
     "execution_count": 4,
     "metadata": {},
     "output_type": "execute_result"
    }
   ],
   "source": [
    "# vlsp emphysema scores\n",
    "emp_path = \"/home/local/VANDERBILT/litz/github/MASILab/emphysema/data/JoHof_fused_results.csv\"\n",
    "emp = pd.read_csv(emp_path, dtype={'pid':str})\n",
    "emp"
   ]
  },
  {
   "cell_type": "code",
   "execution_count": null,
   "metadata": {},
   "outputs": [],
   "source": []
  },
  {
   "cell_type": "code",
   "execution_count": 5,
   "metadata": {},
   "outputs": [
    {
     "data": {
      "text/plain": [
       "1490"
      ]
     },
     "execution_count": 5,
     "metadata": {},
     "output_type": "execute_result"
    }
   ],
   "source": [
    "# construct feature matrix of emphysema covariates\n"
   ]
  },
  {
   "cell_type": "code",
   "execution_count": null,
   "metadata": {},
   "outputs": [],
   "source": []
  }
 ],
 "metadata": {
  "kernelspec": {
   "display_name": "Python 3.8.10 ('env': venv)",
   "language": "python",
   "name": "python3"
  },
  "language_info": {
   "codemirror_mode": {
    "name": "ipython",
    "version": 3
   },
   "file_extension": ".py",
   "mimetype": "text/x-python",
   "name": "python",
   "nbconvert_exporter": "python",
   "pygments_lexer": "ipython3",
   "version": "3.8.10"
  },
  "orig_nbformat": 4,
  "vscode": {
   "interpreter": {
    "hash": "366645108d71f4cfc7f05896c6218790a167315efd7a564d8ea64f60b191eb93"
   }
  }
 },
 "nbformat": 4,
 "nbformat_minor": 2
}
