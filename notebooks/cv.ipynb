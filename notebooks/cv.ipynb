{
 "cells": [
  {
   "cell_type": "code",
   "execution_count": 2,
   "id": "df4a4b14-9516-4179-b5a5-c3d4a1ffd501",
   "metadata": {},
   "outputs": [],
   "source": [
    "import pandas as pd\n",
    "import os\n",
    "import sys\n",
    "import glob\n",
    "import random\n",
    "import csv\n",
    "sys.path.append('/home/local/VANDERBILT/litz/github/MASILab/lobe_seg/')\n",
    "from luna16_preprocess import get_kfolds"
   ]
  },
  {
   "cell_type": "code",
   "execution_count": null,
   "id": "ca6ca6c2-0a34-44cf-8eef-748e55bad89b",
   "metadata": {},
   "outputs": [],
   "source": []
  },
  {
   "cell_type": "code",
   "execution_count": 10,
   "id": "d8151d74-a033-49f8-bbdb-5b67039a4889",
   "metadata": {},
   "outputs": [
    {
     "name": "stdout",
     "output_type": "stream",
     "text": [
      "6\n",
      "0 15\n",
      "1 15\n",
      "2 15\n",
      "3 15\n",
      "4 17\n"
     ]
    }
   ],
   "source": [
    "# add active learning examples to the folds created for LUNA16\n",
    "kfolds = '/home/local/VANDERBILT/litz/data/luna16/5fold_qa.csv'\n",
    "folds = get_kfolds(kfolds)\n",
    "root_dir = '/home/local/VANDERBILT/litz/data/imagevu/nifti/active_learning/dataset_rand/train'\n",
    "scans = glob.glob(os.path.join(root_dir, '0*'))\n",
    "random.seed(2)\n",
    "random.shuffle(scans)\n",
    "fold_size = int(len(scans)/5)\n",
    "print(fold_size)\n",
    "folds[0] = folds[0] + scans[:fold_size]\n",
    "for i in range(len(folds)):\n",
    "    if i>=1 and i<=3:\n",
    "        folds[i] = folds[i] + scans[i*fold_size:(i+1)*fold_size]\n",
    "    if i==4:\n",
    "        folds[i] = folds[i] + scans[i*fold_size:]\n",
    "    print(i, len(folds[i]))"
   ]
  },
  {
   "cell_type": "code",
   "execution_count": 11,
   "id": "8468a1fb-4a2d-41f9-9df0-19ff0b8f3dbc",
   "metadata": {
    "tags": []
   },
   "outputs": [],
   "source": [
    "# convert all file paths to nifti_dir and .nii.gz suffix\n",
    "nifti_dir = '/home/local/VANDERBILT/litz/data/imagevu/nifti/active_learning/dataset_rand/train'\n",
    "nifti_folds = []\n",
    "for fold in folds:\n",
    "    nifti_fold = []\n",
    "    for path in fold:\n",
    "        scanid, suffix = os.path.splitext(os.path.basename(path))\n",
    "        name = f\"{scanid}.nii.gz\" if suffix != '.gz' else os.path.basename(path)\n",
    "        new_path = os.path.join(nifti_dir, name)\n",
    "        nifti_fold.append(new_path)\n",
    "    nifti_folds.append(nifti_fold)"
   ]
  },
  {
   "cell_type": "code",
   "execution_count": 12,
   "id": "cab3004f-ba0e-4ebb-b685-88c18552ed0b",
   "metadata": {},
   "outputs": [],
   "source": [
    "# check if all paths exist\n",
    "for fold in nifti_folds:\n",
    "    for path in fold:\n",
    "        if os.path.isfile(path) == False:\n",
    "            print(f\"{path} not exist\")"
   ]
  },
  {
   "cell_type": "code",
   "execution_count": 13,
   "id": "ae69668c-97e2-4f5a-b5f1-ddabc1565b91",
   "metadata": {},
   "outputs": [],
   "source": [
    "# write folds\n",
    "out_path = '/home/local/VANDERBILT/litz/data/imagevu/nifti/active_learning/dataset_rand/5folds.csv'\n",
    "with open(out_path, 'w') as f:\n",
    "    wr = csv.writer(f)\n",
    "    wr.writerows(nifti_folds)"
   ]
  },
  {
   "cell_type": "code",
   "execution_count": 14,
   "id": "4dfde7ff-aafd-4fed-bfab-94366582e7a3",
   "metadata": {
    "tags": []
   },
   "outputs": [
    {
     "name": "stdout",
     "output_type": "stream",
     "text": [
      "15\n",
      "['/home/local/VANDERBILT/litz/data/imagevu/nifti/active_learning/dataset_rand/train/1.3.6.1.4.1.14519.5.2.1.6279.6001.183843376225716802567192412456.nii.gz', '/home/local/VANDERBILT/litz/data/imagevu/nifti/active_learning/dataset_rand/train/1.3.6.1.4.1.14519.5.2.1.6279.6001.249530219848512542668813996730.nii.gz', '/home/local/VANDERBILT/litz/data/imagevu/nifti/active_learning/dataset_rand/train/1.3.6.1.4.1.14519.5.2.1.6279.6001.316911475886263032009840828684.nii.gz', '/home/local/VANDERBILT/litz/data/imagevu/nifti/active_learning/dataset_rand/train/1.3.6.1.4.1.14519.5.2.1.6279.6001.177685820605315926524514718990.nii.gz', '/home/local/VANDERBILT/litz/data/imagevu/nifti/active_learning/dataset_rand/train/1.3.6.1.4.1.14519.5.2.1.6279.6001.119806527488108718706404165837.nii.gz', '/home/local/VANDERBILT/litz/data/imagevu/nifti/active_learning/dataset_rand/train/1.3.6.1.4.1.14519.5.2.1.6279.6001.898642529028521482602829374444.nii.gz', '/home/local/VANDERBILT/litz/data/imagevu/nifti/active_learning/dataset_rand/train/1.3.6.1.4.1.14519.5.2.1.6279.6001.134638281277099121660656324702.nii.gz', '/home/local/VANDERBILT/litz/data/imagevu/nifti/active_learning/dataset_rand/train/1.3.6.1.4.1.14519.5.2.1.6279.6001.416701701108520592702405866796.nii.gz', '/home/local/VANDERBILT/litz/data/imagevu/nifti/active_learning/dataset_rand/train/1.3.6.1.4.1.14519.5.2.1.6279.6001.112740418331256326754121315800.nii.gz', '/home/local/VANDERBILT/litz/data/imagevu/nifti/active_learning/dataset_rand/train/00000667time20170526.nii.gz', '/home/local/VANDERBILT/litz/data/imagevu/nifti/active_learning/dataset_rand/train/00001110time20180201.nii.gz', '/home/local/VANDERBILT/litz/data/imagevu/nifti/active_learning/dataset_rand/train/00000650time20120530.nii.gz', '/home/local/VANDERBILT/litz/data/imagevu/nifti/active_learning/dataset_rand/train/00000965time20180129.nii.gz', '/home/local/VANDERBILT/litz/data/imagevu/nifti/active_learning/dataset_rand/train/00000707time20130524.nii.gz', '/home/local/VANDERBILT/litz/data/imagevu/nifti/active_learning/dataset_rand/train/00000801time20170908.nii.gz']\n",
      "15\n",
      "['/home/local/VANDERBILT/litz/data/imagevu/nifti/active_learning/dataset_rand/train/1.3.6.1.4.1.14519.5.2.1.6279.6001.503980049263254396021509831276.nii.gz', '/home/local/VANDERBILT/litz/data/imagevu/nifti/active_learning/dataset_rand/train/1.3.6.1.4.1.14519.5.2.1.6279.6001.255999614855292116767517149228.nii.gz', '/home/local/VANDERBILT/litz/data/imagevu/nifti/active_learning/dataset_rand/train/1.3.6.1.4.1.14519.5.2.1.6279.6001.333145094436144085379032922488.nii.gz', '/home/local/VANDERBILT/litz/data/imagevu/nifti/active_learning/dataset_rand/train/1.3.6.1.4.1.14519.5.2.1.6279.6001.307835307280028057486413359377.nii.gz', '/home/local/VANDERBILT/litz/data/imagevu/nifti/active_learning/dataset_rand/train/1.3.6.1.4.1.14519.5.2.1.6279.6001.199220738144407033276946096708.nii.gz', '/home/local/VANDERBILT/litz/data/imagevu/nifti/active_learning/dataset_rand/train/1.3.6.1.4.1.14519.5.2.1.6279.6001.323859712968543712594665815359.nii.gz', '/home/local/VANDERBILT/litz/data/imagevu/nifti/active_learning/dataset_rand/train/1.3.6.1.4.1.14519.5.2.1.6279.6001.413896555982844732694353377538.nii.gz', '/home/local/VANDERBILT/litz/data/imagevu/nifti/active_learning/dataset_rand/train/1.3.6.1.4.1.14519.5.2.1.6279.6001.272042302501586336192628818865.nii.gz', '/home/local/VANDERBILT/litz/data/imagevu/nifti/active_learning/dataset_rand/train/1.3.6.1.4.1.14519.5.2.1.6279.6001.300392272203629213913702120739.nii.gz', '/home/local/VANDERBILT/litz/data/imagevu/nifti/active_learning/dataset_rand/train/00000486time20171002.nii.gz', '/home/local/VANDERBILT/litz/data/imagevu/nifti/active_learning/dataset_rand/train/00000900time20171208.nii.gz', '/home/local/VANDERBILT/litz/data/imagevu/nifti/active_learning/dataset_rand/train/00001090time20180702.nii.gz', '/home/local/VANDERBILT/litz/data/imagevu/nifti/active_learning/dataset_rand/train/00000677time20180705.nii.gz', '/home/local/VANDERBILT/litz/data/imagevu/nifti/active_learning/dataset_rand/train/00001033time20181022.nii.gz', '/home/local/VANDERBILT/litz/data/imagevu/nifti/active_learning/dataset_rand/train/00000771time20170821.nii.gz']\n",
      "15\n",
      "['/home/local/VANDERBILT/litz/data/imagevu/nifti/active_learning/dataset_rand/train/1.3.6.1.4.1.14519.5.2.1.6279.6001.295298571102631191572192562523.nii.gz', '/home/local/VANDERBILT/litz/data/imagevu/nifti/active_learning/dataset_rand/train/1.3.6.1.4.1.14519.5.2.1.6279.6001.868211851413924881662621747734.nii.gz', '/home/local/VANDERBILT/litz/data/imagevu/nifti/active_learning/dataset_rand/train/1.3.6.1.4.1.14519.5.2.1.6279.6001.259018373683540453277752706262.nii.gz', '/home/local/VANDERBILT/litz/data/imagevu/nifti/active_learning/dataset_rand/train/1.3.6.1.4.1.14519.5.2.1.6279.6001.286061375572911414226912429210.nii.gz', '/home/local/VANDERBILT/litz/data/imagevu/nifti/active_learning/dataset_rand/train/1.3.6.1.4.1.14519.5.2.1.6279.6001.194465340552956447447896167830.nii.gz', '/home/local/VANDERBILT/litz/data/imagevu/nifti/active_learning/dataset_rand/train/1.3.6.1.4.1.14519.5.2.1.6279.6001.119304665257760307862874140576.nii.gz', '/home/local/VANDERBILT/litz/data/imagevu/nifti/active_learning/dataset_rand/train/1.3.6.1.4.1.14519.5.2.1.6279.6001.297251044869095073091780740645.nii.gz', '/home/local/VANDERBILT/litz/data/imagevu/nifti/active_learning/dataset_rand/train/1.3.6.1.4.1.14519.5.2.1.6279.6001.199069398344356765037879821616.nii.gz', '/home/local/VANDERBILT/litz/data/imagevu/nifti/active_learning/dataset_rand/train/1.3.6.1.4.1.14519.5.2.1.6279.6001.261678072503577216586082745513.nii.gz', '/home/local/VANDERBILT/litz/data/imagevu/nifti/active_learning/dataset_rand/train/00000616time20170421.nii.gz', '/home/local/VANDERBILT/litz/data/imagevu/nifti/active_learning/dataset_rand/train/00000541time20180628.nii.gz', '/home/local/VANDERBILT/litz/data/imagevu/nifti/active_learning/dataset_rand/train/00001109time20180629.nii.gz', '/home/local/VANDERBILT/litz/data/imagevu/nifti/active_learning/dataset_rand/train/00000648time20170515.nii.gz', '/home/local/VANDERBILT/litz/data/imagevu/nifti/active_learning/dataset_rand/train/00000045time20170920.nii.gz', '/home/local/VANDERBILT/litz/data/imagevu/nifti/active_learning/dataset_rand/train/00000905time20171215.nii.gz']\n",
      "15\n",
      "['/home/local/VANDERBILT/litz/data/imagevu/nifti/active_learning/dataset_rand/train/1.3.6.1.4.1.14519.5.2.1.6279.6001.281967919138248195763602360723.nii.gz', '/home/local/VANDERBILT/litz/data/imagevu/nifti/active_learning/dataset_rand/train/1.3.6.1.4.1.14519.5.2.1.6279.6001.237215747217294006286437405216.nii.gz', '/home/local/VANDERBILT/litz/data/imagevu/nifti/active_learning/dataset_rand/train/1.3.6.1.4.1.14519.5.2.1.6279.6001.842980983137518332429408284002.nii.gz', '/home/local/VANDERBILT/litz/data/imagevu/nifti/active_learning/dataset_rand/train/1.3.6.1.4.1.14519.5.2.1.6279.6001.187451715205085403623595258748.nii.gz', '/home/local/VANDERBILT/litz/data/imagevu/nifti/active_learning/dataset_rand/train/1.3.6.1.4.1.14519.5.2.1.6279.6001.265133389948279331857097127422.nii.gz', '/home/local/VANDERBILT/litz/data/imagevu/nifti/active_learning/dataset_rand/train/1.3.6.1.4.1.14519.5.2.1.6279.6001.317087518531899043292346860596.nii.gz', '/home/local/VANDERBILT/litz/data/imagevu/nifti/active_learning/dataset_rand/train/1.3.6.1.4.1.14519.5.2.1.6279.6001.188385286346390202873004762827.nii.gz', '/home/local/VANDERBILT/litz/data/imagevu/nifti/active_learning/dataset_rand/train/1.3.6.1.4.1.14519.5.2.1.6279.6001.112767175295249119452142211437.nii.gz', '/home/local/VANDERBILT/litz/data/imagevu/nifti/active_learning/dataset_rand/train/1.3.6.1.4.1.14519.5.2.1.6279.6001.146987333806092287055399155268.nii.gz', '/home/local/VANDERBILT/litz/data/imagevu/nifti/active_learning/dataset_rand/train/00000663time20170525.nii.gz', '/home/local/VANDERBILT/litz/data/imagevu/nifti/active_learning/dataset_rand/train/00000499time20180223.nii.gz', '/home/local/VANDERBILT/litz/data/imagevu/nifti/active_learning/dataset_rand/train/00000797time20170906.nii.gz', '/home/local/VANDERBILT/litz/data/imagevu/nifti/active_learning/dataset_rand/train/00000894time20150211.nii.gz', '/home/local/VANDERBILT/litz/data/imagevu/nifti/active_learning/dataset_rand/train/00000586time20170405.nii.gz', '/home/local/VANDERBILT/litz/data/imagevu/nifti/active_learning/dataset_rand/train/00000847time20171018.nii.gz']\n",
      "17\n",
      "['/home/local/VANDERBILT/litz/data/imagevu/nifti/active_learning/dataset_rand/train/1.3.6.1.4.1.14519.5.2.1.6279.6001.151669338315069779994664893123.nii.gz', '/home/local/VANDERBILT/litz/data/imagevu/nifti/active_learning/dataset_rand/train/1.3.6.1.4.1.14519.5.2.1.6279.6001.122914038048856168343065566972.nii.gz', '/home/local/VANDERBILT/litz/data/imagevu/nifti/active_learning/dataset_rand/train/1.3.6.1.4.1.14519.5.2.1.6279.6001.404364125369979066736354549484.nii.gz', '/home/local/VANDERBILT/litz/data/imagevu/nifti/active_learning/dataset_rand/train/1.3.6.1.4.1.14519.5.2.1.6279.6001.188209889686363159853715266493.nii.gz', '/home/local/VANDERBILT/litz/data/imagevu/nifti/active_learning/dataset_rand/train/1.3.6.1.4.1.14519.5.2.1.6279.6001.192256506776434538421891524301.nii.gz', '/home/local/VANDERBILT/litz/data/imagevu/nifti/active_learning/dataset_rand/train/1.3.6.1.4.1.14519.5.2.1.6279.6001.306788423710427765311352901943.nii.gz', '/home/local/VANDERBILT/litz/data/imagevu/nifti/active_learning/dataset_rand/train/1.3.6.1.4.1.14519.5.2.1.6279.6001.119209873306155771318545953948.nii.gz', '/home/local/VANDERBILT/litz/data/imagevu/nifti/active_learning/dataset_rand/train/1.3.6.1.4.1.14519.5.2.1.6279.6001.183982839679953938397312236359.nii.gz', '/home/local/VANDERBILT/litz/data/imagevu/nifti/active_learning/dataset_rand/train/1.3.6.1.4.1.14519.5.2.1.6279.6001.230078008964732806419498631442.nii.gz', '/home/local/VANDERBILT/litz/data/imagevu/nifti/active_learning/dataset_rand/train/1.3.6.1.4.1.14519.5.2.1.6279.6001.193964947698259739624715468431.nii.gz', '/home/local/VANDERBILT/litz/data/imagevu/nifti/active_learning/dataset_rand/train/1.3.6.1.4.1.14519.5.2.1.6279.6001.332453873575389860371315979768.nii.gz', '/home/local/VANDERBILT/litz/data/imagevu/nifti/active_learning/dataset_rand/train/00000735time20170719.nii.gz', '/home/local/VANDERBILT/litz/data/imagevu/nifti/active_learning/dataset_rand/train/00000838time20160730.nii.gz', '/home/local/VANDERBILT/litz/data/imagevu/nifti/active_learning/dataset_rand/train/00001104time20180216.nii.gz', '/home/local/VANDERBILT/litz/data/imagevu/nifti/active_learning/dataset_rand/train/00001034time20180711.nii.gz', '/home/local/VANDERBILT/litz/data/imagevu/nifti/active_learning/dataset_rand/train/00000864time20180205.nii.gz', '/home/local/VANDERBILT/litz/data/imagevu/nifti/active_learning/dataset_rand/train/00001022time20180531.nii.gz']\n"
     ]
    }
   ],
   "source": [
    "a = get_kfolds(out_path)\n",
    "for fold in a:\n",
    "    print(len(fold))\n",
    "    print(fold)"
   ]
  },
  {
   "cell_type": "code",
   "execution_count": null,
   "id": "b4be77a6-3f3c-4520-9f5b-63525bd61450",
   "metadata": {},
   "outputs": [],
   "source": []
  }
 ],
 "metadata": {
  "kernelspec": {
   "display_name": "lobe_seg",
   "language": "python",
   "name": "env"
  },
  "language_info": {
   "codemirror_mode": {
    "name": "ipython",
    "version": 3
   },
   "file_extension": ".py",
   "mimetype": "text/x-python",
   "name": "python",
   "nbconvert_exporter": "python",
   "pygments_lexer": "ipython3",
   "version": "3.8.10"
  }
 },
 "nbformat": 4,
 "nbformat_minor": 5
}
