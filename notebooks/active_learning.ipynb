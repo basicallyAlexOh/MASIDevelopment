{
 "cells": [
  {
   "cell_type": "markdown",
   "id": "3804d89f-a0c3-4d47-8576-d650ff9aaeea",
   "metadata": {},
   "source": [
    "### Active learning\n",
    "Select examples from VLSP training set for manual label correction and active learning"
   ]
  },
  {
   "cell_type": "code",
   "execution_count": 1,
   "id": "1562d933-ddd6-4c42-a916-c6b6d0de25af",
   "metadata": {},
   "outputs": [],
   "source": [
    "import os\n",
    "import sys\n",
    "import pandas as pd\n",
    "import matplotlib.pyplot as plt\n",
    "import seaborn as sns\n",
    "from statannotations.Annotator import Annotator"
   ]
  },
  {
   "cell_type": "code",
   "execution_count": 2,
   "id": "3abc97ec-a15f-4557-b4bf-5c57d5b6475b",
   "metadata": {},
   "outputs": [
    {
     "name": "stdout",
     "output_type": "stream",
     "text": [
      "13\n",
      "13\n",
      "13\n",
      "13\n",
      "14\n"
     ]
    }
   ],
   "source": [
    "fname = \"/home/local/VANDERBILT/litz/data/imagevu/nifti/active_learning/dataset_07/5folds.csv\"\n",
    "with open(fname, \"r\") as f:\n",
    "    for line in f:\n",
    "        print(len(line.split(\",\")))"
   ]
  },
  {
   "cell_type": "code",
   "execution_count": 3,
   "id": "c89870b8-69b1-4c19-80b6-04b9867ac652",
   "metadata": {},
   "outputs": [
    {
     "data": {
      "text/html": [
       "<div>\n",
       "<style scoped>\n",
       "    .dataframe tbody tr th:only-of-type {\n",
       "        vertical-align: middle;\n",
       "    }\n",
       "\n",
       "    .dataframe tbody tr th {\n",
       "        vertical-align: top;\n",
       "    }\n",
       "\n",
       "    .dataframe thead th {\n",
       "        text-align: right;\n",
       "    }\n",
       "</style>\n",
       "<table border=\"1\" class=\"dataframe\">\n",
       "  <thead>\n",
       "    <tr style=\"text-align: right;\">\n",
       "      <th></th>\n",
       "      <th>id</th>\n",
       "      <th>0</th>\n",
       "      <th>1</th>\n",
       "      <th>2</th>\n",
       "      <th>3</th>\n",
       "      <th>4</th>\n",
       "      <th>input_path</th>\n",
       "    </tr>\n",
       "  </thead>\n",
       "  <tbody>\n",
       "    <tr>\n",
       "      <th>0</th>\n",
       "      <td>0</td>\n",
       "      <td>0.944150</td>\n",
       "      <td>0.951356</td>\n",
       "      <td>0.935595</td>\n",
       "      <td>0.859424</td>\n",
       "      <td>0.958361</td>\n",
       "      <td>/home/local/VANDERBILT/litz/data/imagevu/nifti...</td>\n",
       "    </tr>\n",
       "    <tr>\n",
       "      <th>1</th>\n",
       "      <td>1</td>\n",
       "      <td>0.937508</td>\n",
       "      <td>0.953855</td>\n",
       "      <td>0.942496</td>\n",
       "      <td>0.907860</td>\n",
       "      <td>0.970856</td>\n",
       "      <td>/home/local/VANDERBILT/litz/data/imagevu/nifti...</td>\n",
       "    </tr>\n",
       "    <tr>\n",
       "      <th>2</th>\n",
       "      <td>2</td>\n",
       "      <td>0.905494</td>\n",
       "      <td>0.945703</td>\n",
       "      <td>0.927449</td>\n",
       "      <td>0.869351</td>\n",
       "      <td>0.968883</td>\n",
       "      <td>/home/local/VANDERBILT/litz/data/imagevu/nifti...</td>\n",
       "    </tr>\n",
       "    <tr>\n",
       "      <th>3</th>\n",
       "      <td>3</td>\n",
       "      <td>0.870890</td>\n",
       "      <td>0.798166</td>\n",
       "      <td>0.842407</td>\n",
       "      <td>0.672921</td>\n",
       "      <td>0.860644</td>\n",
       "      <td>/home/local/VANDERBILT/litz/data/imagevu/nifti...</td>\n",
       "    </tr>\n",
       "    <tr>\n",
       "      <th>4</th>\n",
       "      <td>4</td>\n",
       "      <td>0.924979</td>\n",
       "      <td>0.962519</td>\n",
       "      <td>0.955311</td>\n",
       "      <td>0.787365</td>\n",
       "      <td>0.963560</td>\n",
       "      <td>/home/local/VANDERBILT/litz/data/imagevu/nifti...</td>\n",
       "    </tr>\n",
       "    <tr>\n",
       "      <th>...</th>\n",
       "      <td>...</td>\n",
       "      <td>...</td>\n",
       "      <td>...</td>\n",
       "      <td>...</td>\n",
       "      <td>...</td>\n",
       "      <td>...</td>\n",
       "      <td>...</td>\n",
       "    </tr>\n",
       "    <tr>\n",
       "      <th>1204</th>\n",
       "      <td>1204</td>\n",
       "      <td>0.955315</td>\n",
       "      <td>0.943372</td>\n",
       "      <td>0.931253</td>\n",
       "      <td>0.850648</td>\n",
       "      <td>0.960003</td>\n",
       "      <td>/home/local/VANDERBILT/litz/data/imagevu/nifti...</td>\n",
       "    </tr>\n",
       "    <tr>\n",
       "      <th>1205</th>\n",
       "      <td>1205</td>\n",
       "      <td>0.941730</td>\n",
       "      <td>0.954843</td>\n",
       "      <td>0.956388</td>\n",
       "      <td>0.856356</td>\n",
       "      <td>0.976690</td>\n",
       "      <td>/home/local/VANDERBILT/litz/data/imagevu/nifti...</td>\n",
       "    </tr>\n",
       "    <tr>\n",
       "      <th>1206</th>\n",
       "      <td>1206</td>\n",
       "      <td>0.923465</td>\n",
       "      <td>0.899431</td>\n",
       "      <td>0.913627</td>\n",
       "      <td>0.717078</td>\n",
       "      <td>0.916732</td>\n",
       "      <td>/home/local/VANDERBILT/litz/data/imagevu/nifti...</td>\n",
       "    </tr>\n",
       "    <tr>\n",
       "      <th>1207</th>\n",
       "      <td>1207</td>\n",
       "      <td>0.952725</td>\n",
       "      <td>0.936451</td>\n",
       "      <td>0.950237</td>\n",
       "      <td>0.915226</td>\n",
       "      <td>0.935839</td>\n",
       "      <td>/home/local/VANDERBILT/litz/data/imagevu/nifti...</td>\n",
       "    </tr>\n",
       "    <tr>\n",
       "      <th>1208</th>\n",
       "      <td>1208</td>\n",
       "      <td>0.940167</td>\n",
       "      <td>0.933266</td>\n",
       "      <td>0.897874</td>\n",
       "      <td>0.875501</td>\n",
       "      <td>0.903399</td>\n",
       "      <td>/home/local/VANDERBILT/litz/data/imagevu/nifti...</td>\n",
       "    </tr>\n",
       "  </tbody>\n",
       "</table>\n",
       "<p>1209 rows × 7 columns</p>\n",
       "</div>"
      ],
      "text/plain": [
       "        id         0         1         2         3         4  \\\n",
       "0        0  0.944150  0.951356  0.935595  0.859424  0.958361   \n",
       "1        1  0.937508  0.953855  0.942496  0.907860  0.970856   \n",
       "2        2  0.905494  0.945703  0.927449  0.869351  0.968883   \n",
       "3        3  0.870890  0.798166  0.842407  0.672921  0.860644   \n",
       "4        4  0.924979  0.962519  0.955311  0.787365  0.963560   \n",
       "...    ...       ...       ...       ...       ...       ...   \n",
       "1204  1204  0.955315  0.943372  0.931253  0.850648  0.960003   \n",
       "1205  1205  0.941730  0.954843  0.956388  0.856356  0.976690   \n",
       "1206  1206  0.923465  0.899431  0.913627  0.717078  0.916732   \n",
       "1207  1207  0.952725  0.936451  0.950237  0.915226  0.935839   \n",
       "1208  1208  0.940167  0.933266  0.897874  0.875501  0.903399   \n",
       "\n",
       "                                             input_path  \n",
       "0     /home/local/VANDERBILT/litz/data/imagevu/nifti...  \n",
       "1     /home/local/VANDERBILT/litz/data/imagevu/nifti...  \n",
       "2     /home/local/VANDERBILT/litz/data/imagevu/nifti...  \n",
       "3     /home/local/VANDERBILT/litz/data/imagevu/nifti...  \n",
       "4     /home/local/VANDERBILT/litz/data/imagevu/nifti...  \n",
       "...                                                 ...  \n",
       "1204  /home/local/VANDERBILT/litz/data/imagevu/nifti...  \n",
       "1205  /home/local/VANDERBILT/litz/data/imagevu/nifti...  \n",
       "1206  /home/local/VANDERBILT/litz/data/imagevu/nifti...  \n",
       "1207  /home/local/VANDERBILT/litz/data/imagevu/nifti...  \n",
       "1208  /home/local/VANDERBILT/litz/data/imagevu/nifti...  \n",
       "\n",
       "[1209 rows x 7 columns]"
      ]
     },
     "execution_count": 3,
     "metadata": {},
     "output_type": "execute_result"
    }
   ],
   "source": [
    "metrics_path= \"/home/local/VANDERBILT/litz/github/MASILab/lobe_seg/models/0416unet512peter/test.csv\"\n",
    "metrics_df = pd.read_csv(metrics_path)\n",
    "metrics_df = metrics_df.rename(columns={\"Unnamed: 0\":\"id\"})\n",
    "metrics_df"
   ]
  },
  {
   "cell_type": "code",
   "execution_count": 4,
   "id": "34c8ac61-2aa7-412d-87d7-282a56c18d1f",
   "metadata": {},
   "outputs": [
    {
     "data": {
      "text/html": [
       "<div>\n",
       "<style scoped>\n",
       "    .dataframe tbody tr th:only-of-type {\n",
       "        vertical-align: middle;\n",
       "    }\n",
       "\n",
       "    .dataframe tbody tr th {\n",
       "        vertical-align: top;\n",
       "    }\n",
       "\n",
       "    .dataframe thead th {\n",
       "        text-align: right;\n",
       "    }\n",
       "</style>\n",
       "<table border=\"1\" class=\"dataframe\">\n",
       "  <thead>\n",
       "    <tr style=\"text-align: right;\">\n",
       "      <th></th>\n",
       "      <th>id</th>\n",
       "      <th>input_path</th>\n",
       "      <th>Lobe</th>\n",
       "      <th>Dice score</th>\n",
       "    </tr>\n",
       "  </thead>\n",
       "  <tbody>\n",
       "    <tr>\n",
       "      <th>0</th>\n",
       "      <td>0</td>\n",
       "      <td>/home/local/VANDERBILT/litz/data/imagevu/nifti...</td>\n",
       "      <td>LUL</td>\n",
       "      <td>0.944150</td>\n",
       "    </tr>\n",
       "    <tr>\n",
       "      <th>1</th>\n",
       "      <td>1</td>\n",
       "      <td>/home/local/VANDERBILT/litz/data/imagevu/nifti...</td>\n",
       "      <td>LUL</td>\n",
       "      <td>0.937508</td>\n",
       "    </tr>\n",
       "    <tr>\n",
       "      <th>2</th>\n",
       "      <td>2</td>\n",
       "      <td>/home/local/VANDERBILT/litz/data/imagevu/nifti...</td>\n",
       "      <td>LUL</td>\n",
       "      <td>0.905494</td>\n",
       "    </tr>\n",
       "    <tr>\n",
       "      <th>3</th>\n",
       "      <td>3</td>\n",
       "      <td>/home/local/VANDERBILT/litz/data/imagevu/nifti...</td>\n",
       "      <td>LUL</td>\n",
       "      <td>0.870890</td>\n",
       "    </tr>\n",
       "    <tr>\n",
       "      <th>4</th>\n",
       "      <td>4</td>\n",
       "      <td>/home/local/VANDERBILT/litz/data/imagevu/nifti...</td>\n",
       "      <td>LUL</td>\n",
       "      <td>0.924979</td>\n",
       "    </tr>\n",
       "    <tr>\n",
       "      <th>...</th>\n",
       "      <td>...</td>\n",
       "      <td>...</td>\n",
       "      <td>...</td>\n",
       "      <td>...</td>\n",
       "    </tr>\n",
       "    <tr>\n",
       "      <th>6040</th>\n",
       "      <td>1204</td>\n",
       "      <td>/home/local/VANDERBILT/litz/data/imagevu/nifti...</td>\n",
       "      <td>RLL</td>\n",
       "      <td>0.960003</td>\n",
       "    </tr>\n",
       "    <tr>\n",
       "      <th>6041</th>\n",
       "      <td>1205</td>\n",
       "      <td>/home/local/VANDERBILT/litz/data/imagevu/nifti...</td>\n",
       "      <td>RLL</td>\n",
       "      <td>0.976690</td>\n",
       "    </tr>\n",
       "    <tr>\n",
       "      <th>6042</th>\n",
       "      <td>1206</td>\n",
       "      <td>/home/local/VANDERBILT/litz/data/imagevu/nifti...</td>\n",
       "      <td>RLL</td>\n",
       "      <td>0.916732</td>\n",
       "    </tr>\n",
       "    <tr>\n",
       "      <th>6043</th>\n",
       "      <td>1207</td>\n",
       "      <td>/home/local/VANDERBILT/litz/data/imagevu/nifti...</td>\n",
       "      <td>RLL</td>\n",
       "      <td>0.935839</td>\n",
       "    </tr>\n",
       "    <tr>\n",
       "      <th>6044</th>\n",
       "      <td>1208</td>\n",
       "      <td>/home/local/VANDERBILT/litz/data/imagevu/nifti...</td>\n",
       "      <td>RLL</td>\n",
       "      <td>0.903399</td>\n",
       "    </tr>\n",
       "  </tbody>\n",
       "</table>\n",
       "<p>6045 rows × 4 columns</p>\n",
       "</div>"
      ],
      "text/plain": [
       "        id                                         input_path Lobe  Dice score\n",
       "0        0  /home/local/VANDERBILT/litz/data/imagevu/nifti...  LUL    0.944150\n",
       "1        1  /home/local/VANDERBILT/litz/data/imagevu/nifti...  LUL    0.937508\n",
       "2        2  /home/local/VANDERBILT/litz/data/imagevu/nifti...  LUL    0.905494\n",
       "3        3  /home/local/VANDERBILT/litz/data/imagevu/nifti...  LUL    0.870890\n",
       "4        4  /home/local/VANDERBILT/litz/data/imagevu/nifti...  LUL    0.924979\n",
       "...    ...                                                ...  ...         ...\n",
       "6040  1204  /home/local/VANDERBILT/litz/data/imagevu/nifti...  RLL    0.960003\n",
       "6041  1205  /home/local/VANDERBILT/litz/data/imagevu/nifti...  RLL    0.976690\n",
       "6042  1206  /home/local/VANDERBILT/litz/data/imagevu/nifti...  RLL    0.916732\n",
       "6043  1207  /home/local/VANDERBILT/litz/data/imagevu/nifti...  RLL    0.935839\n",
       "6044  1208  /home/local/VANDERBILT/litz/data/imagevu/nifti...  RLL    0.903399\n",
       "\n",
       "[6045 rows x 4 columns]"
      ]
     },
     "execution_count": 4,
     "metadata": {},
     "output_type": "execute_result"
    }
   ],
   "source": [
    "def lobe_map(x):\n",
    "    if x=='0': return 'LUL'\n",
    "    if x=='1': return 'LLL'\n",
    "    if x=='2': return 'RUL'\n",
    "    if x=='3': return 'RML'\n",
    "    if x=='4': return 'RLL'\n",
    "metrics_long = pd.melt(metrics_df, id_vars=['id', 'input_path'],value_vars=['0', '1', '2', '3', '4'])\n",
    "metrics_long = metrics_long.rename(columns={'variable':'Lobe', 'value': 'Dice score'})\n",
    "metrics_long['Lobe']=metrics_long['Lobe'].apply(lobe_map)\n",
    "metrics_long"
   ]
  },
  {
   "cell_type": "code",
   "execution_count": 5,
   "id": "c9875187-20b4-4f45-b02f-319dc521eb1e",
   "metadata": {},
   "outputs": [
    {
     "data": {
      "image/png": "[encoded data removed]",
      "text/plain": [
       "<Figure size 504x720 with 1 Axes>"
      ]
     },
     "metadata": {
      "needs_background": "light"
     },
     "output_type": "display_data"
    }
   ],
   "source": [
    "sns.set_context(context=\"talk\")\n",
    "f, ax = plt.subplots(figsize=(7,10))\n",
    "sns.boxplot(x=\"Lobe\", y=\"Dice score\", data=metrics_long)\n",
    "ax.yaxis.grid(True)"
   ]
  },
  {
   "cell_type": "code",
   "execution_count": 9,
   "id": "9975f473-00be-40ba-b063-aca1f0fa17b2",
   "metadata": {},
   "outputs": [
    {
     "name": "stdout",
     "output_type": "stream",
     "text": [
      "979\n"
     ]
    }
   ],
   "source": [
    "candidates = metrics_long[metrics_long['Dice score']>0.96]\n",
    "print(len(candidates))"
   ]
  },
  {
   "cell_type": "code",
   "execution_count": 41,
   "id": "6379e997-2dec-4860-8bd8-9dbd28ed935a",
   "metadata": {},
   "outputs": [
    {
     "name": "stdout",
     "output_type": "stream",
     "text": [
      "20\n"
     ]
    }
   ],
   "source": [
    "gb_candidates = candidates.groupby(['id', 'input_path'], as_index=False).max()\n",
    "print(len(gb_candidates))\n",
    "# gb_candidates.to_csv('/home/local/VANDERBILT/litz/github/MASILab/lobe_seg/models/0416unet512peter/dice_lt070.csv', index_label=False)"
   ]
  },
  {
   "cell_type": "code",
   "execution_count": 34,
   "id": "77e4967f-900c-4e62-854f-25a4cedc269b",
   "metadata": {},
   "outputs": [
    {
     "data": {
      "text/plain": [
       "'/home/local/VANDERBILT/litz/data/imagevu/nifti/train_preproc/00000005time20140114.nii.gz'"
      ]
     },
     "execution_count": 34,
     "metadata": {},
     "output_type": "execute_result"
    }
   ],
   "source": [
    "gb_candidates['input_path'][0]"
   ]
  },
  {
   "cell_type": "code",
   "execution_count": null,
   "id": "2324aa54-84dc-49e6-b889-3f62bb27e31a",
   "metadata": {},
   "outputs": [],
   "source": []
  }
 ],
 "metadata": {
  "kernelspec": {
   "display_name": "lobe_seg",
   "language": "python",
   "name": "env"
  },
  "language_info": {
   "codemirror_mode": {
    "name": "ipython",
    "version": 3
   },
   "file_extension": ".py",
   "mimetype": "text/x-python",
   "name": "python",
   "nbconvert_exporter": "python",
   "pygments_lexer": "ipython3",
   "version": "3.8.10"
  }
 },
 "nbformat": 4,
 "nbformat_minor": 5
}
