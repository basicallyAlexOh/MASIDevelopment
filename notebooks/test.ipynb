{
 "cells": [
  {
   "cell_type": "code",
   "execution_count": 20,
   "id": "846ab83d-d2c8-4d15-b752-891d56e9dee2",
   "metadata": {},
   "outputs": [],
   "source": [
    "\"\"\"Evaluate model on test set and report results\"\"\"\n",
    "\n",
    "import os\n",
    "import sys\n",
    "from tqdm import tqdm\n",
    "import torch\n",
    "from monai.inferers import sliding_window_inference\n",
    "from monai.data import decollate_batch\n",
    "from monai.transforms import (\n",
    "    AsDiscrete,\n",
    "    Compose,\n",
    "    EnsureType,\n",
    ")\n",
    "from monai.utils import set_determinism\n",
    "\n",
    "from monai.metrics import DiceMetric\n",
    "from monai.losses import DiceLoss\n",
    "from torch.utils.tensorboard import SummaryWriter\n",
    "from torch.utils.data import random_split\n",
    "import torch\n",
    "import os\n",
    "import sys\n",
    "import yaml\n",
    "import random\n",
    "import glob\n",
    "import pandas as pd\n",
    "from pathlib import Path\n",
    "sys.path.append(\"/home/local/VANDERBILT/litz/github/MASILab/lobe_seg\")\n",
    "from dataloader import train_dataloader, val_dataloader\n",
    "from models import unet256, unet512"
   ]
  },
  {
   "cell_type": "code",
   "execution_count": 27,
   "id": "cb011d3d-d9de-43dc-9ead-ed48fc2dfa1f",
   "metadata": {},
   "outputs": [],
   "source": [
    "def load_config(config_name, config_dir):\n",
    "    with open(os.path.join(config_dir, config_name)) as file:\n",
    "        config = yaml.load(file, Loader=yaml.FullLoader)\n",
    "    return config\n",
    "\n",
    "def test(config,\n",
    "         config_id,\n",
    "         device,\n",
    "         model,\n",
    "         model_path,\n",
    "         test_metric,\n",
    "         test_loader):\n",
    "\n",
    "    device = torch.device(config[\"device\"])\n",
    "    model.load_state_dict(torch.load(model_path))\n",
    "    model.eval()\n",
    "    post_pred = Compose([EnsureType(), AsDiscrete(argmax=True, to_onehot=6)])\n",
    "    post_label = Compose([EnsureType(), AsDiscrete(to_onehot=6)])\n",
    "    with torch.no_grad():\n",
    "        for test_data in tqdm(test_loader):\n",
    "            test_inputs, test_labels = (\n",
    "                test_data[\"image\"].to(device),\n",
    "                test_data[\"label\"].to(device),\n",
    "            )\n",
    "            roi_size = config[\"crop_shape\"]\n",
    "            sw_batch_size=4\n",
    "            test_outputs = sliding_window_inference(test_inputs, roi_size, sw_batch_size, model)\n",
    "            print(test_outputs.shape)\n",
    "            test_outputs = [post_pred(i) for i in decollate_batch(test_outputs)]\n",
    "            test_labels = [post_label(i) for i in decollate_batch(test_labels)]\n",
    "            # Append metric of each class to buffer\n",
    "            test_metric(y_pred=test_outputs, y=test_labels)\n",
    "        # Record metrics and compute mean over test set\n",
    "        test_dices = test_metric.aggregate()\n",
    "        class_means = torch.mean(test_dices, dim=0)\n",
    "        mean = torch.mean(test_dices)\n",
    "        test_dices_df = pd.DataFrame(test_dices.detach().cpu().numpy())\n",
    "\n",
    "    # Log best dice\n",
    "    # print(f\"All scores: {test_dices_df}\")\n",
    "    print(f\"Average class scores: {class_means}\")\n",
    "    print(f\"Average score overall: {mean}\")\n"
   ]
  },
  {
   "cell_type": "code",
   "execution_count": null,
   "id": "f8113388-1e45-49dd-b6b6-38151a007926",
   "metadata": {},
   "outputs": [],
   "source": [
    "os.environ[\"CUDA_DEVICE_ORDER\"]=\"PCI_BUS_ID\"\n",
    "os.environ[\"CUDA_VISIBLE_DEVICES\"]=\"1\"\n",
    "device = torch.device(\"cuda:0\")\n",
    "print(device)"
   ]
  },
  {
   "cell_type": "code",
   "execution_count": 14,
   "id": "74f90d08-a80e-4896-a497-4a100d169563",
   "metadata": {},
   "outputs": [],
   "source": [
    "config_id = \"0327unet512\"\n",
    "MODEL_DIR = os.path.join(config[\"model_dir\"], config_id)\n",
    "model_path = os.path.join(MODEL_DIR, f\"{config_id}_best_model.pth\")"
   ]
  },
  {
   "cell_type": "code",
   "execution_count": 28,
   "id": "1b3544d4-84e7-4f61-b8e4-e8c341f203cf",
   "metadata": {},
   "outputs": [
    {
     "name": "stdout",
     "output_type": "stream",
     "text": [
      "Validation sample size: 2\n"
     ]
    },
    {
     "name": "stderr",
     "output_type": "stream",
     "text": [
      "  0%|                                                                                      | 0/2 [00:00<?, ?it/s]"
     ]
    },
    {
     "name": "stdout",
     "output_type": "stream",
     "text": [
      "torch.Size([1, 6, 313, 290, 283])\n"
     ]
    },
    {
     "name": "stderr",
     "output_type": "stream",
     "text": [
      " 50%|███████████████████████████████████████                                       | 1/2 [00:11<00:11, 11.62s/it]"
     ]
    },
    {
     "name": "stdout",
     "output_type": "stream",
     "text": [
      "torch.Size([1, 6, 351, 272, 349])\n"
     ]
    },
    {
     "name": "stderr",
     "output_type": "stream",
     "text": [
      "100%|██████████████████████████████████████████████████████████████████████████████| 2/2 [00:16<00:00,  8.37s/it]"
     ]
    },
    {
     "name": "stdout",
     "output_type": "stream",
     "text": [
      "Average class scores: tensor([0.9720, 0.9675, 0.9657, 0.9154, 0.9781], device='cuda:0')\n",
      "Average score overall: 0.9597461819648743\n"
     ]
    },
    {
     "name": "stderr",
     "output_type": "stream",
     "text": [
      "\n"
     ]
    }
   ],
   "source": [
    "CONFIG_DIR = \"/home/local/VANDERBILT/litz/github/MASILab/lobe_seg/configs\"\n",
    "config = load_config(f\"Config_{config_id}.YAML\", CONFIG_DIR)\n",
    "DATA_DIR = config[\"test_dir\"]\n",
    "\n",
    "# Set randomness\n",
    "set_determinism(seed=config[\"random_seed\"])\n",
    "random.seed(config[\"random_seed\"])\n",
    "\n",
    "# Load data\n",
    "images = sorted(glob.glob(os.path.join(DATA_DIR, \"*.nii.gz\")))\n",
    "images = images[:2]\n",
    "test_loader = val_dataloader(config, images)\n",
    "\n",
    "# Initialize Model and test metric\n",
    "if config[\"model\"] == 'unet512':\n",
    "    model = unet512(6).to(device)\n",
    "else:\n",
    "    model = unet256(6).to(device)\n",
    "# Set metric to compute average over each class\n",
    "test_metric = DiceMetric(include_background=False, reduction=\"none\")\n",
    "\n",
    "test(config,\n",
    "     config_id,\n",
    "     device,\n",
    "     model,\n",
    "     model_path,\n",
    "     test_metric,\n",
    "     test_loader)"
   ]
  },
  {
   "cell_type": "code",
   "execution_count": null,
   "id": "251b548d-19a6-428c-8707-3b1e51fdb986",
   "metadata": {},
   "outputs": [],
   "source": []
  }
 ],
 "metadata": {
  "kernelspec": {
   "display_name": "lobe_seg",
   "language": "python",
   "name": "env"
  },
  "language_info": {
   "codemirror_mode": {
    "name": "ipython",
    "version": 3
   },
   "file_extension": ".py",
   "mimetype": "text/x-python",
   "name": "python",
   "nbconvert_exporter": "python",
   "pygments_lexer": "ipython3",
   "version": "3.8.10"
  }
 },
 "nbformat": 4,
 "nbformat_minor": 5
}
