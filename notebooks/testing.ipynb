{
 "cells": [
  {
   "cell_type": "code",
   "execution_count": 3,
   "id": "cf0ac5d8-1cac-47d6-a72c-fe3b0351d81c",
   "metadata": {},
   "outputs": [],
   "source": [
    "import os\n",
    "import glob\n",
    "import nibabel as nib\n",
    "import SimpleITK as sitk"
   ]
  },
  {
   "cell_type": "code",
   "execution_count": 4,
   "id": "ae041749-87ee-46e1-b46a-a722bb8b2c84",
   "metadata": {},
   "outputs": [
    {
     "name": "stdout",
     "output_type": "stream",
     "text": [
      "1209\n"
     ]
    }
   ],
   "source": [
    "data_dir = \"/home/local/VANDERBILT/litz/data/imagevu/nifti/train_preproc/\"\n",
    "images = sorted(glob.glob(os.path.join(data_dir, \"*.nii.gz\")))\n",
    "print(len(images))"
   ]
  },
  {
   "cell_type": "code",
   "execution_count": 7,
   "id": "adca8e13-8558-40f5-830a-1815dc4cf8b9",
   "metadata": {},
   "outputs": [
    {
     "data": {
      "text/plain": [
       "(234, 512, 512)"
      ]
     },
     "execution_count": 7,
     "metadata": {},
     "output_type": "execute_result"
    }
   ],
   "source": [
    "image_path = images[0]\n",
    "raw_sitk = sitk.ReadImage(image_path)\n",
    "img = sitk.GetArrayFromImage(raw_sitk)\n",
    "img.shape"
   ]
  },
  {
   "cell_type": "code",
   "execution_count": null,
   "id": "cede06db-7814-40b3-b01a-d7823b83f660",
   "metadata": {},
   "outputs": [],
   "source": []
  }
 ],
 "metadata": {
  "kernelspec": {
   "display_name": "lobe_seg",
   "language": "python",
   "name": "env"
  },
  "language_info": {
   "codemirror_mode": {
    "name": "ipython",
    "version": 3
   },
   "file_extension": ".py",
   "mimetype": "text/x-python",
   "name": "python",
   "nbconvert_exporter": "python",
   "pygments_lexer": "ipython3",
   "version": "3.8.10"
  }
 },
 "nbformat": 4,
 "nbformat_minor": 5
}
